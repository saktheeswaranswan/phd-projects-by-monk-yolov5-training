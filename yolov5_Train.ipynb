{
  "nbformat": 4,
  "nbformat_minor": 0,
  "metadata": {
    "colab": {
      "private_outputs": true,
      "provenance": [],
      "gpuType": "T4"
    },
    "kernelspec": {
      "name": "python3",
      "display_name": "Python 3"
    },
    "language_info": {
      "name": "python"
    },
    "accelerator": "GPU"
  },
  "cells": [
    {
      "cell_type": "code",
      "execution_count": null,
      "metadata": {
        "id": "OrqNrQGnAxT3"
      },
      "outputs": [],
      "source": [
        "!nvidia-smi"
      ]
    },
    {
      "cell_type": "code",
      "source": [
        "!git clone https://github.com/ultralytics/yolov5.git\n"
      ],
      "metadata": {
        "id": "4BejMtwFA_1w"
      },
      "execution_count": null,
      "outputs": []
    },
    {
      "cell_type": "code",
      "source": [
        "%cd yolov5/\n",
        "!pip install -r requirements.txt"
      ],
      "metadata": {
        "id": "2NQXkm_BBIOw"
      },
      "execution_count": null,
      "outputs": []
    },
    {
      "cell_type": "code",
      "source": [
        "!pip install roboflow\n",
        "\n",
        "from roboflow import Roboflow\n",
        "rf = Roboflow(api_key=\"cpOUyBbgcmT9hwQG19ej\")\n",
        "project = rf.workspace(\"kripya-solutions\").project(\"summa-uxs0d\")\n",
        "dataset = project.version(1).download(\"yolov5\")\n"
      ],
      "metadata": {
        "id": "dUEy1AkPBWCu"
      },
      "execution_count": null,
      "outputs": []
    },
    {
      "cell_type": "code",
      "source": [
        "!python train.py --data coco128.yaml --epochs 10 --weights '' --cfg yolov5x.yaml  --batch-size 128"
      ],
      "metadata": {
        "id": "Vjf0_Y5LBOKe"
      },
      "execution_count": null,
      "outputs": []
    }
  ]
}